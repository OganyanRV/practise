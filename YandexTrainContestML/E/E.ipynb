{
 "cells": [
  {
   "cell_type": "markdown",
   "id": "947993bb-d26a-4b1c-9650-8c8a9beea6c8",
   "metadata": {},
   "source": [
    "Просто пример:"
   ]
  },
  {
   "cell_type": "code",
   "execution_count": 3,
   "id": "2bb06ffd-5832-43a4-85c2-e0d31c0ecff4",
   "metadata": {},
   "outputs": [],
   "source": [
    "def y_(x1,x2,x3,x4,x5):\n",
    "    return 4 * x1 + 3.5 * x2 + 1 * x3 + 10 * x4 + 0.2 * x5 + 0.5 * x1**2 + 2.1 * x4**2 + 9 * x1*x3"
   ]
  },
  {
   "cell_type": "code",
   "execution_count": 4,
   "id": "37c2400b-6d97-4f8f-90b0-6006714acbec",
   "metadata": {},
   "outputs": [],
   "source": [
    "import numpy as np\n",
    "my_x, my_y = [], []\n",
    "for i in range(1000):\n",
    "    x1,x2,x3,x4,x5 = np.random.normal(4, 6, size=5)\n",
    "    y = y_(x1,x2,x3,x4,x5)\n",
    "    features = [x1, x2, x3, x4, x5]\n",
    "    features.append(x1*x2)\n",
    "    features.append(x1*x3)\n",
    "    features.append(x1*x4)\n",
    "    features.append(x1*x5)\n",
    "    features.append(x2*x3)\n",
    "    features.append(x2*x4)\n",
    "    features.append(x2*x5)\n",
    "    features.append(x3*x4)\n",
    "    features.append(x3*x5)\n",
    "    features.append(x4*x5)\n",
    "    features.append(x1**2)\n",
    "    features.append(x2**2)\n",
    "    features.append(x3**2)\n",
    "    features.append(x4**2)\n",
    "    features.append(x5**2)\n",
    "    my_x.append(features)\n",
    "    my_y.append(y)"
   ]
  },
  {
   "cell_type": "code",
   "execution_count": 5,
   "id": "a2990990-8bcc-438b-9d00-c5332c8fb0cb",
   "metadata": {},
   "outputs": [],
   "source": [
    "my_x2, my_y2 = [], []\n",
    "for i in range(1000):\n",
    "    x1,x2,x3,x4,x5 = np.random.normal(4, 6, size=5)\n",
    "    y = y_(x1,x2,x3,x4,x5)\n",
    "    features = [x1, x2, x3, x4, x5]\n",
    "    features.append(x1*x2)\n",
    "    features.append(x1*x3)\n",
    "    features.append(x1*x4)\n",
    "    features.append(x1*x5)\n",
    "    features.append(x2*x3)\n",
    "    features.append(x2*x4)\n",
    "    features.append(x2*x5)\n",
    "    features.append(x3*x4)\n",
    "    features.append(x3*x5)\n",
    "    features.append(x4*x5)\n",
    "    features.append(x1**2)\n",
    "    features.append(x2**2)\n",
    "    features.append(x3**2)\n",
    "    features.append(x4**2)\n",
    "    features.append(x5**2)\n",
    "    my_x2.append(features)\n",
    "    my_y2.append(y)"
   ]
  },
  {
   "cell_type": "code",
   "execution_count": 8,
   "id": "e6cf138f-7d18-409a-943a-39cf2a82e02d",
   "metadata": {},
   "outputs": [],
   "source": [
    "from sklearn.linear_model import LinearRegression\n",
    "model = LinearRegression().fit(X=np.array(my_x), y=np.array(my_y))\n",
    "pred1 = model.predict(np.array(my_x))\n",
    "pred2 = model.predict(np.array(my_x2))"
   ]
  },
  {
   "cell_type": "code",
   "execution_count": 10,
   "id": "aa6201a9-5382-46f8-9139-ed2be8c59d6f",
   "metadata": {},
   "outputs": [
    {
     "data": {
      "text/plain": [
       "(1.5625721100856775e-24, 1.8926174836093656e-24)"
      ]
     },
     "execution_count": 10,
     "metadata": {},
     "output_type": "execute_result"
    }
   ],
   "source": [
    "from sklearn.metrics import mean_squared_error\n",
    "mean_squared_error(pred1, my_y), mean_squared_error(pred2, my_y2)"
   ]
  },
  {
   "cell_type": "markdown",
   "id": "fdd00e36-05dd-4710-8a5c-08822abd6abe",
   "metadata": {},
   "source": [
    "Решение:"
   ]
  },
  {
   "cell_type": "code",
   "execution_count": null,
   "id": "704e4e89-89cc-4ee8-ba92-24bf58ddc0e9",
   "metadata": {},
   "outputs": [],
   "source": [
    "from sklearn import linear_model\n",
    "\n",
    "# import numpy as np\n",
    "X_train = []\n",
    "y_train = []\n",
    "for i in range(1000):\n",
    "    x1, x2, x3, x4, x5, y = map(float, input().split())\n",
    "    y_train.append([y])\n",
    "    features = [x1, x2, x3, x4, x5]\n",
    "    features.append(x1*x2)\n",
    "    features.append(x1*x3)\n",
    "    features.append(x1*x4)\n",
    "    features.append(x1*x5)\n",
    "    features.append(x2*x3)\n",
    "    features.append(x2*x4)\n",
    "    features.append(x2*x5)\n",
    "    features.append(x3*x4)\n",
    "    features.append(x3*x5)\n",
    "    features.append(x4*x5)\n",
    "    features.append(x1**2)\n",
    "    features.append(x2**2)\n",
    "    features.append(x3**2)\n",
    "    features.append(x4**2)\n",
    "    features.append(x5**2)\n",
    "    X_train.append(features)\n",
    "\n",
    "X_test = []\n",
    "for i in range(1000):\n",
    "    x1, x2, x3, x4, x5 = map(float, input().split())\n",
    "    features = [x1, x2, x3, x4, x5]\n",
    "    features.append(x1*x2)\n",
    "    features.append(x1*x3)\n",
    "    features.append(x1*x4)\n",
    "    features.append(x1*x5)\n",
    "    features.append(x2*x3)\n",
    "    features.append(x2*x4)\n",
    "    features.append(x2*x5)\n",
    "    features.append(x3*x4)\n",
    "    features.append(x3*x5)\n",
    "    features.append(x4*x5)\n",
    "    features.append(x1**2)\n",
    "    features.append(x2**2)\n",
    "    features.append(x3**2)\n",
    "    features.append(x4**2)\n",
    "    features.append(x5**2)\n",
    "    X_test.append(features)\n",
    "\n",
    "\n",
    "model = linear_model.LinearRegression()\n",
    "\n",
    "model.fit(X=X_train, y=y_train)\n",
    "ans = model.predict(X_test)\n",
    "\n",
    "for ans_ in ans:\n",
    "    print(float(ans_))"
   ]
  }
 ],
 "metadata": {
  "kernelspec": {
   "display_name": "Python 3 (ipykernel)",
   "language": "python",
   "name": "python3"
  },
  "language_info": {
   "codemirror_mode": {
    "name": "ipython",
    "version": 3
   },
   "file_extension": ".py",
   "mimetype": "text/x-python",
   "name": "python",
   "nbconvert_exporter": "python",
   "pygments_lexer": "ipython3",
   "version": "3.10.6"
  }
 },
 "nbformat": 4,
 "nbformat_minor": 5
}
