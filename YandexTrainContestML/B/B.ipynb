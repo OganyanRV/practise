{
 "cells": [
  {
   "cell_type": "markdown",
   "id": "dfd853a8-3a7f-4604-a100-16eb6e3b260f",
   "metadata": {},
   "source": [
    "Точное решение - перебор всех исходов, подсчет их вероятностей и значений случайных величин => подсчет мат. ожидания"
   ]
  },
  {
   "cell_type": "code",
   "execution_count": null,
   "id": "fab44634-5255-4115-885f-5fdbda5239f2",
   "metadata": {},
   "outputs": [],
   "source": [
    "# import numpy as np\n",
    "\n",
    "# def cartesian_product(*arrays):\n",
    "#     la = len(arrays)\n",
    "#     dtype = np.result_type(*arrays)\n",
    "#     arr = np.empty([len(a) for a in arrays] + [la], dtype=dtype)\n",
    "#     for i, a in enumerate(np.ix_(*arrays)):\n",
    "#         arr[...,i] = a\n",
    "#     return arr.reshape(-1, la)\n",
    "\n",
    "import itertools\n",
    "    \n",
    "a = list(map(int, input().split()))\n",
    "k = int(input())\n",
    "\n",
    "poor_counter = dict()\n",
    "for val in a:\n",
    "    if val not in poor_counter:\n",
    "        poor_counter[val]=1\n",
    "    else:\n",
    "        poor_counter[val]+=1\n",
    "\n",
    "for key in poor_counter.keys():\n",
    "    poor_counter[key] /= len(a)\n",
    "\n",
    "probs_edge = poor_counter\n",
    "\n",
    "uniq_a = list(set(a))\n",
    "# all_combinations = itertools.product(uniq_a, repeat=k)\n",
    "\n",
    "comb_probs = []\n",
    "for comb in itertools.product(uniq_a, repeat=k):\n",
    "    prob = 1\n",
    "    for val in comb:\n",
    "        prob *= probs_edge[val]\n",
    "    comb_probs.append(prob)\n",
    "\n",
    "comb_score = []\n",
    "for comb in itertools.product(uniq_a, repeat=k):\n",
    "    cur_score = comb[0]\n",
    "    for i in range(1, k):\n",
    "        if comb[i] != comb[i-1]:\n",
    "            cur_score += comb[i]\n",
    "    comb_score.append(cur_score)\n",
    "\n",
    "expected_value = sum([prob * score for (prob, score) in zip(comb_probs, comb_score)])\n",
    "print(expected_value)"
   ]
  },
  {
   "cell_type": "markdown",
   "id": "32acf1e9-fcef-4bef-a3b1-1a67d9cb006b",
   "metadata": {},
   "source": [
    "Очевидно это ТЛ для 6^1000.\n",
    "Попробуем другую идею: пусть всевозможные исходы это генеральная совокупность. Попробуем выбрать **n** случайных выборок размера **m** и почитаем мат.ожидания каждой выборки. Среднее этих матожиданий будет оценкой мат.ожидания генеральной совокупности. Реализуем это на плюсах. Файл `main.cpp`\n",
    "\n",
    "Спойлер: **не сработало =)**. Энивей ТЛ, так как сложность **O(n * k * m)**. Т.е в лучшем случае я брал n = 1e3, m=1e2. В принципе даже такие размеры дают точность до сотой, но нужно 6 знаков после запятой"
   ]
  }
 ],
 "metadata": {
  "kernelspec": {
   "display_name": "Python 3 (ipykernel)",
   "language": "python",
   "name": "python3"
  },
  "language_info": {
   "codemirror_mode": {
    "name": "ipython",
    "version": 3
   },
   "file_extension": ".py",
   "mimetype": "text/x-python",
   "name": "python",
   "nbconvert_exporter": "python",
   "pygments_lexer": "ipython3",
   "version": "3.10.6"
  }
 },
 "nbformat": 4,
 "nbformat_minor": 5
}
